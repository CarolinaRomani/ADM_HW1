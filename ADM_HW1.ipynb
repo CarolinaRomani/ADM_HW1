{
 "cells": [
  {
   "cell_type": "code",
   "execution_count": null,
   "id": "aa084a64-5e59-4392-8013-d4cbe82c94ce",
   "metadata": {},
   "outputs": [],
   "source": [
    "#Say \"Hello, World!\" With Python\n",
    "if __name__ == '__main__':\n",
    "    print(\"Hello, World!\")"
   ]
  },
  {
   "cell_type": "code",
   "execution_count": null,
   "id": "240aa6e7-adda-4eff-9c4e-14d839253168",
   "metadata": {},
   "outputs": [],
   "source": [
    "#Python If-Else\n",
    "\n",
    "import math\n",
    "import os\n",
    "import random\n",
    "import re\n",
    "import sys\n",
    "\n",
    "\n",
    "\n",
    "if __name__ == '__main__':\n",
    "    n = int(input().strip())\n",
    "if (n % 2 ==1):\n",
    "    print(\"Weird\")\n",
    "else:\n",
    "    if(n >= 2 and n <= 5):\n",
    "        print(\"Not Weird\")\n",
    "    elif(n >= 6 and n <= 20):\n",
    "        print(\"Weird\")\n",
    "    elif(n > 20):\n",
    "        print(\"Not Weird\")"
   ]
  },
  {
   "cell_type": "code",
   "execution_count": null,
   "id": "8de37fb6-aab6-4738-9c33-e62caf0b170e",
   "metadata": {},
   "outputs": [],
   "source": [
    "#Arithmetic Operators\n",
    "if __name__ == '__main__':\n",
    "    a = int(input())\n",
    "    b = int(input())\n",
    "    \n",
    "print(a+b)\n",
    "print(a-b)\n",
    "print(a*b)\n"
   ]
  },
  {
   "cell_type": "code",
   "execution_count": null,
   "id": "e69c9f2e-35a4-4c08-b192-f6fe4861d01a",
   "metadata": {},
   "outputs": [],
   "source": [
    "#Python: Division\n",
    "if __name__ == '__main__':\n",
    "    a = int(input())\n",
    "    b = int(input())\n",
    "    print(a//b)\n",
    "    print(a/b)"
   ]
  },
  {
   "cell_type": "code",
   "execution_count": null,
   "id": "c5ca8a43-f7d9-42a9-9797-fbd5a27a4df1",
   "metadata": {},
   "outputs": [],
   "source": [
    "#Loops\n",
    "if __name__ == '__main__':\n",
    "    n = int(input())\n",
    "    for i in range(0,n):\n",
    "        print(i*i)"
   ]
  },
  {
   "cell_type": "code",
   "execution_count": null,
   "id": "6ae222f4-1019-4cbb-aac0-261669530249",
   "metadata": {},
   "outputs": [],
   "source": [
    "#Write a function \n",
    "def is_leap(year):\n",
    "    if year % 400 == 0:\n",
    "        return True\n",
    "    elif year % 100 == 0:\n",
    "        return False\n",
    "    elif year % 4 == 0:\n",
    "        return True\n",
    "    elif year % 4 != 0:\n",
    "        return False\n",
    "\n",
    "year = int(input())\n",
    "print(is_leap(year))"
   ]
  },
  {
   "cell_type": "code",
   "execution_count": null,
   "id": "be458bc0-2a0e-4953-a5ed-94850bb33bac",
   "metadata": {},
   "outputs": [],
   "source": [
    "#Print function\n",
    "if __name__ == '__main__':\n",
    "    n = int(input())\n",
    "for i in range (1,n+1):\n",
    "    print(i,end='')"
   ]
  },
  {
   "cell_type": "code",
   "execution_count": null,
   "id": "47064ea6-d698-4f32-8cd6-810acada99c9",
   "metadata": {},
   "outputs": [],
   "source": [
    "#List Comprehensions\n",
    "if __name__ == '__main__':\n",
    "    x = int(input())\n",
    "    y = int(input())\n",
    "    z = int(input())\n",
    "    n = int(input())\n",
    "    \n",
    "print([[i, j, k] for i in range (x+1) for j in range (y+1) for k in range (z+1) if i+j+k!=n])"
   ]
  },
  {
   "cell_type": "code",
   "execution_count": null,
   "id": "a36de797-255a-4546-887d-079aa217a484",
   "metadata": {},
   "outputs": [],
   "source": [
    "#Find the Runner-Up Score!\n",
    "if __name__ == '__main__':\n",
    "    n = int(input())\n",
    "    arr = list(map(int, input().split()))\n",
    "    \n",
    "    a=max(arr)\n",
    "    c=arr.count(a)\n",
    "    for i in range(c):\n",
    "        arr.remove(a)\n",
    "    print(max(arr))"
   ]
  },
  {
   "cell_type": "code",
   "execution_count": null,
   "id": "07bcc7d7-dc3c-4a32-bcf6-ad43c8c68f25",
   "metadata": {},
   "outputs": [],
   "source": [
    "#Nested Lists\n",
    "if __name__ == '__main__':\n",
    "    students=[]\n",
    "    scores=[]\n",
    "    for _ in range(int(input())):\n",
    "        name = input()\n",
    "        score = float(input())\n",
    "        student=[name,score]\n",
    "        students.append(student)\n",
    "        scores.append(score)\n",
    "    second_min_score = sorted(set(scores))[1]\n",
    "    filtered_student_names = sorted([student[0] for student in students if student[1]==second_min_score])\n",
    "    print(\"\\n\".join(filtered_student_names))"
   ]
  },
  {
   "cell_type": "code",
   "execution_count": null,
   "id": "af3e1306-e096-4235-b9a5-6534e257f76b",
   "metadata": {},
   "outputs": [],
   "source": [
    "#Shape and Reshape\n",
    "import numpy\n",
    "array=list(map(int,input().split()))\n",
    "numpy_array=numpy.array(array)\n",
    "print(numpy.reshape(numpy_array,(3,3)))"
   ]
  },
  {
   "cell_type": "code",
   "execution_count": null,
   "id": "da217b10-9075-479d-8390-9f0c80941ae7",
   "metadata": {},
   "outputs": [],
   "source": [
    "#Finding the percentage\n",
    "if __name__ == '__main__':\n",
    "    n = int(input())\n",
    "    student_marks = {}\n",
    "    for _ in range(n):\n",
    "        name, *line = input().split()\n",
    "        scores = list(map(float, line))\n",
    "        student_marks[name] = scores\n",
    "    query_name = input()\n"
   ]
  },
  {
   "cell_type": "code",
   "execution_count": null,
   "id": "f81cc653-52ce-4a56-8d0f-26c596394f2b",
   "metadata": {},
   "outputs": [],
   "source": [
    "#Lists\n",
    "if __name__ == '__main__':\n",
    "    N = int(input())\n",
    "    ar = []\n",
    "    for i in range(0, N):\n",
    "        tmp_str = input()\n",
    "        tmp_str_ar = tmp_str.strip().split(\" \")\n",
    "        cmd = tmp_str_ar[0]\n",
    "        if cmd == \"print\":\n",
    "            print(ar)\n",
    "        elif cmd == \"sort\":\n",
    "            ar.sort()\n",
    "        elif cmd == \"reverse\":\n",
    "            ar.reverse()\n",
    "        elif cmd == \"pop\":\n",
    "            ar.pop()\n",
    "        elif cmd == \"count\":\n",
    "            val = int(tmp_str_ar[1])\n",
    "            ar.count(val)\n",
    "        elif cmd == \"index\":\n",
    "            val = int(tmp_str_ar[1])\n",
    "            ar.index(val)\n",
    "        elif cmd == \"remove\":\n",
    "            val = int(tmp_str_ar[1])\n",
    "            ar.remove(val)\n",
    "        elif cmd == \"append\":\n",
    "            val = int(tmp_str_ar[1])\n",
    "            ar.append(val)\n",
    "        elif cmd == \"insert\":\n",
    "            pos = int(tmp_str_ar[1])\n",
    "            val = int(tmp_str_ar[2])\n",
    "            ar.insert(pos, val)"
   ]
  },
  {
   "cell_type": "code",
   "execution_count": null,
   "id": "061e9e97-17e2-44ed-9b1b-a9655899a2bd",
   "metadata": {},
   "outputs": [],
   "source": [
    "#Tuples\n",
    "if __name__ == '__main__':\n",
    "    n = int(input())\n",
    "    integer_list = map(int, input().split())\n",
    "    t= tuple(integer_list)\n",
    "    print(hash(t))"
   ]
  },
  {
   "cell_type": "code",
   "execution_count": null,
   "id": "f1b38125-abd9-4afc-abdd-c86cd0f55254",
   "metadata": {},
   "outputs": [],
   "source": [
    "#sWAP cASE\n",
    "def change(c):\n",
    "    if str.islower(c):\n",
    "        return str.upper(c)\n",
    "    else:\n",
    "        return str.lower(c)\n",
    "\n",
    "def swap_case(s):\n",
    "    return ''.join(map(change,s))"
   ]
  },
  {
   "cell_type": "code",
   "execution_count": null,
   "id": "64b35872-9b7c-4bc1-a2d8-a168220cda12",
   "metadata": {},
   "outputs": [],
   "source": [
    "#String Split and Join\n",
    "def split_and_join(line):\n",
    "    return \"-\".join(line.split())\n",
    "\n",
    "if __name__ == '__main__':\n",
    "    line = input()\n",
    "    result = split_and_join(line)\n",
    "    print(result)"
   ]
  },
  {
   "cell_type": "code",
   "execution_count": null,
   "id": "8b8d6e2c-0c4a-4e61-8dd7-a3e2ffa89ba2",
   "metadata": {},
   "outputs": [],
   "source": [
    "#Mutations\n",
    "def mutate_string(string, position, character):\n",
    "    chars = list(string)\n",
    "    chars[position] = character\n",
    "    return \"\".join(chars)\n",
    "   \n",
    "    return"
   ]
  },
  {
   "cell_type": "code",
   "execution_count": null,
   "id": "7086e7be-0488-4a9a-8ac2-1b5421126788",
   "metadata": {},
   "outputs": [],
   "source": [
    "#What's Your Name?\n",
    "def print_full_name(first, last):\n",
    "    print(\"Hello {0} {1}! You just delved into python.\".format(first,last))"
   ]
  },
  {
   "cell_type": "code",
   "execution_count": null,
   "id": "7170658a-c46e-44de-bfa9-1fe3e7ea4c64",
   "metadata": {},
   "outputs": [],
   "source": [
    "#Arrays\n",
    "def arrays(arr):\n",
    "    return (numpy.array(arr[::-1],float))"
   ]
  },
  {
   "cell_type": "code",
   "execution_count": null,
   "id": "9fdab270-eaf0-4c6b-8743-940c0e35eed4",
   "metadata": {},
   "outputs": [],
   "source": [
    "#Finding the percentage\n",
    "if __name__ == '__main__':\n",
    "    n = int(input())\n",
    "    student_marks = {}\n",
    "    for _ in range(n):\n",
    "        name, *line = input().split()\n",
    "        scores = list(map(float, line))\n",
    "        student_marks[name] = scores\n",
    "    query_name = input()\n",
    "    res = sum(student_marks[query_name])/len(student_marks[name])\n",
    "    print(\"{:.2f}\".format(res))\n"
   ]
  },
  {
   "cell_type": "code",
   "execution_count": null,
   "id": "e3473b7a-7cba-424c-8ed6-081e641fc4a8",
   "metadata": {},
   "outputs": [],
   "source": [
    "#Transpose and flatten\n",
    "import numpy\n",
    "n,m = map(int,input().split())\n",
    "my_array = []\n",
    "for i in range(n):\n",
    "    row = list(map(int,input().split()))\n",
    "    my_array.append(row)\n",
    "\n",
    "np_array = numpy.array(my_array)\n",
    "print(numpy.transpose(np_array))\n",
    "print(np_array.flatten())"
   ]
  },
  {
   "cell_type": "code",
   "execution_count": null,
   "id": "e3ba1e73-f3ec-4c2a-8a35-2e865d572e99",
   "metadata": {},
   "outputs": [],
   "source": [
    "#Concatenate\n",
    "import numpy\n",
    "n,m,p=map(int,input().split())\n",
    "my_array1=[]\n",
    "my_array2=[]\n",
    "for i in range (n):\n",
    "    tmp=list(map(int,input().split()))\n",
    "    my_array1.append(tmp)\n",
    "for i in range (m):\n",
    "    tmp=list(map(int,input().split()))\n",
    "    my_array2.append(tmp)\n",
    "np_arr1=numpy.array(my_array1)\n",
    "np_arr2=numpy.array(my_array2)\n",
    "print(numpy.concatenate((np_arr1,np_arr2),axis=0))"
   ]
  },
  {
   "cell_type": "code",
   "execution_count": null,
   "id": "252f6049-b671-4e0b-8a6f-c89084157cf4",
   "metadata": {},
   "outputs": [],
   "source": [
    "#Zeros and Ones\n",
    "import numpy\n",
    "n_ar = list(map(int,input().split()))\n",
    "n = tuple(n_ar)\n",
    "print(numpy.zeros(n,dtype=numpy.int))\n",
    "print(numpy.ones(n,dtype=numpy.int))\n"
   ]
  },
  {
   "cell_type": "code",
   "execution_count": null,
   "id": "cc0d741a-75b6-4301-8635-6ce41e8721ae",
   "metadata": {},
   "outputs": [],
   "source": [
    "#Array Mathematics\n",
    "import numpy\n",
    "n,m = map(int,input().split())\n",
    "arr1 = []\n",
    "arr2 = []\n",
    "for i in range(n):\n",
    "    tmp = list(map(int,input().split()))\n",
    "    arr1.append(tmp)\n",
    "for i in range(n):\n",
    "    tmp = list(map(int,input().split()))\n",
    "    arr2.append(tmp)\n",
    "np_arr1 = numpy.array(arr1)\n",
    "np_arr2 = numpy.array(arr2)\n",
    "print(np_arr1 + np_arr2)\n",
    "print(np_arr1 - np_arr2)\n",
    "print(np_arr1 * np_arr2)\n",
    "print(np_arr1 // np_arr2)\n",
    "print(np_arr1 % np_arr2)\n",
    "print(np_arr1 ** np_arr2)"
   ]
  },
  {
   "cell_type": "code",
   "execution_count": null,
   "id": "b242f219-194d-4cd4-b77c-b38e6dbb74dd",
   "metadata": {},
   "outputs": [],
   "source": [
    "#Eye and Identity\n",
    "import numpy\n",
    "numpy.set_printoptions(legacy='1.13')\n",
    "n,m=map(int,input().split())\n",
    "print(numpy.eye(n,m,k=0))"
   ]
  },
  {
   "cell_type": "code",
   "execution_count": null,
   "id": "475ec52b-d489-49c4-b51e-3f486741cf19",
   "metadata": {},
   "outputs": [],
   "source": [
    "#Floor, Ceil and Rint\n",
    "import numpy\n",
    "numpy.set_printoptions(legacy='1.13')\n",
    "A=numpy.array(input().split(),float)\n",
    "print(numpy.floor(A))\n",
    "print(numpy.ceil(A))\n",
    "print(numpy.rint(A))"
   ]
  },
  {
   "cell_type": "code",
   "execution_count": null,
   "id": "dc32964e-a4d7-493e-b7d1-12ae2ebc14ab",
   "metadata": {},
   "outputs": [],
   "source": [
    "#Sum and Prod\n",
    "import numpy\n",
    "n,m=map(int,input().split())\n",
    "arr=[]\n",
    "for i in range (n):\n",
    "    tmp=list(map(int,input().split()))\n",
    "    arr.append(tmp)\n",
    "numpy_arr=numpy.array(arr)\n",
    "s=numpy.sum(numpy_arr,axis=0)\n",
    "print(numpy.prod(s))"
   ]
  },
  {
   "cell_type": "code",
   "execution_count": null,
   "id": "0e2b908d-2486-4b27-91a4-a43b851a9f23",
   "metadata": {},
   "outputs": [],
   "source": [
    "#Min and Max\n",
    "import numpy\n",
    "n,m=map(int,input().split())\n",
    "arr=[]\n",
    "for i in range (n):\n",
    "    tmp=list(map(int,input().split()))\n",
    "    arr.append(tmp)\n",
    "numpy_arr=numpy.array(arr)\n",
    "print(numpy.max(numpy.min(numpy_arr,axis=1)))"
   ]
  },
  {
   "cell_type": "code",
   "execution_count": null,
   "id": "81b7f73b-1a48-4718-a133-07156b5322b8",
   "metadata": {},
   "outputs": [],
   "source": [
    "#Mean, Var, and Std\n",
    "import numpy\n",
    "arr = []\n",
    "n, m = map(int, input().split())\n",
    "for i in range(n): arr.append(list(map(int, input().split())))\n",
    "np_array = numpy.array(arr)\n",
    "print(numpy.mean(np_array, axis=1))\n",
    "print(numpy.var(np_array, axis=0))\n",
    "print(round(numpy.std(np_array), 11))"
   ]
  },
  {
   "cell_type": "code",
   "execution_count": null,
   "id": "b375cb92-2836-4b06-8bfc-b0e4295a5f16",
   "metadata": {},
   "outputs": [],
   "source": [
    "#Dot and Cross\n",
    "import numpy\n",
    "n = int(input())\n",
    "arr1 = []\n",
    "arr2 = []\n",
    "for i in range(n):\n",
    "    tmp = list(map(int,input().split()))\n",
    "    arr1.append(tmp)\n",
    "np_arr1 = numpy.array(arr1)\n",
    "for i in range(n):\n",
    "    tmp = list(map(int,input().split()))\n",
    "    arr2.append(tmp)\n",
    "np_arr2 = numpy.array(arr2)\n",
    "print(numpy.dot(np_arr1,np_arr2))\n",
    " "
   ]
  },
  {
   "cell_type": "code",
   "execution_count": null,
   "id": "73dd9c31-ef92-4289-8ff8-22dcba5aa04e",
   "metadata": {},
   "outputs": [],
   "source": [
    "#Inner and Outer\n",
    "import numpy\n",
    "np_arr1 = numpy.array(list(map(int,input().split())))\n",
    "np_arr2 = numpy.array(list(map(int,input().split())))\n",
    "print(numpy.inner(np_arr1,np_arr2))\n",
    "print(numpy.outer(np_arr1,np_arr2))"
   ]
  },
  {
   "cell_type": "code",
   "execution_count": null,
   "id": "8ab0cc8f-8dae-4d61-99a0-9e0588046901",
   "metadata": {},
   "outputs": [],
   "source": [
    "#Polynomials\n",
    "import numpy\n",
    "p = numpy.array(list(map(float,input().split())),float)\n",
    "x = float(input())\n",
    "print(numpy.polyval(p,x))"
   ]
  },
  {
   "cell_type": "code",
   "execution_count": null,
   "id": "3e6e18ec-061b-4d8d-a166-2fbbd6ab141c",
   "metadata": {},
   "outputs": [],
   "source": [
    "#Linear Algebra\n",
    "import numpy\n",
    "numpy.set_printoptions(legacy='1.13')\n",
    "n = int(input())\n",
    "arr = numpy.array([input().split() for i in range (n)], float)\n",
    "print(numpy.linalg.det(arr))"
   ]
  },
  {
   "cell_type": "code",
   "execution_count": null,
   "id": "a2883324-be8c-4bd8-890d-e8d18d790002",
   "metadata": {},
   "outputs": [],
   "source": [
    "#Birthday cake candles\n",
    "\n",
    "import math\n",
    "import os\n",
    "import random\n",
    "import re\n",
    "import sys\n",
    "def birthdayCakeCandles(candles):\n",
    "    n = len(candles)\n",
    "    maxnum = 0\n",
    "    count = 0\n",
    "    for i in range (n):\n",
    "        if candles[i] > maxnum:\n",
    "            maxnum = candles[i]\n",
    "            count = 1\n",
    "        elif candles[i] == maxnum:\n",
    "            count+=1\n",
    "    return count\n",
    "        \n",
    "\n",
    "if __name__ == '__main__':\n",
    "    fptr = open(os.environ['OUTPUT_PATH'], 'w')\n",
    "\n",
    "    candles_count = int(input().strip())\n",
    "\n",
    "    candles = list(map(int, input().rstrip().split()))\n",
    "\n",
    "    result = birthdayCakeCandles(candles)\n",
    "\n",
    "    fptr.write(str(result) + '\\n')\n",
    "\n",
    "    fptr.close()"
   ]
  },
  {
   "cell_type": "code",
   "execution_count": null,
   "id": "36ece46e-9589-489d-b139-6b05b06e2246",
   "metadata": {},
   "outputs": [],
   "source": [
    "#Find a string\n",
    "def count_substring(string, sub_string):\n",
    "    count = 0\n",
    "    i = string.find(sub_string)\n",
    "    while i != -1:\n",
    "        count += 1\n",
    "        i = string.find(sub_string, i+1)\n",
    "    return count\n",
    "#Couldn't understand it, so I copied the solution from the discussions\n",
    "    "
   ]
  },
  {
   "cell_type": "code",
   "execution_count": null,
   "id": "cb0843f5-3e9c-47eb-ba6d-556ad1d913f1",
   "metadata": {},
   "outputs": [],
   "source": [
    "#String validators\n",
    "if __name__ == '__main__':\n",
    "    s = input()\n",
    "    flag_alnum = False\n",
    "    flag_alpha = False\n",
    "    flag_digit = False\n",
    "    flag_lower = False\n",
    "    flag_upper = False\n",
    "    for i in s:\n",
    "        if i.isalnum():\n",
    "            flag_alnum = True\n",
    "        if i.isalpha():\n",
    "            flag_alpha = True\n",
    "        if i.isdigit():\n",
    "            flag_digit = True\n",
    "        if i.islower():\n",
    "            flag_lower = True\n",
    "        if i.isupper():\n",
    "            flag_upper = True\n",
    "    \n",
    "    print(flag_alnum)\n",
    "    print(flag_alpha)\n",
    "    print(flag_digit)\n",
    "    print(flag_lower)\n",
    "    print(flag_upper)"
   ]
  },
  {
   "cell_type": "code",
   "execution_count": null,
   "id": "aac996b4-4b6a-482c-876c-df17a289c945",
   "metadata": {},
   "outputs": [],
   "source": [
    "#Text alignment\n",
    "thickness = int(input()) #This must be an odd number\n",
    "c = 'H'\n",
    "\n",
    "#Top Cone\n",
    "for i in range(thickness):\n",
    "    print((c*i).rjust(thickness-1)+c+(c*i).ljust(thickness-1))\n",
    "\n",
    "#Top Pillars\n",
    "for i in range(thickness+1):\n",
    "    print((c*thickness).center(thickness*2)+(c*thickness).center(thickness*6))\n",
    "\n",
    "#Middle Belt\n",
    "for i in range((thickness+1)//2):\n",
    "    print((c*thickness*5).center(thickness*6))    \n",
    "\n",
    "#Bottom Pillars\n",
    "for i in range(thickness+1):\n",
    "    print((c*thickness).center(thickness*2)+(c*thickness).center(thickness*6))    \n",
    "\n",
    "#Bottom Cone\n",
    "for i in range(thickness):\n",
    "    print(((c*(thickness-i-1)).rjust(thickness)+c+(c*(thickness-i-1)).ljust(thickness)).rjust(thickness*6))\n",
    "    \n",
    "#Copied and studied from the discussions \n"
   ]
  },
  {
   "cell_type": "code",
   "execution_count": null,
   "id": "fd07343a-a650-4514-bbc9-a8ad50ae4030",
   "metadata": {},
   "outputs": [],
   "source": [
    "#Text wrap\n",
    "\n",
    "def wrap(string, max_width):\n",
    "    return textwrap.fill(string, max_width)"
   ]
  },
  {
   "cell_type": "code",
   "execution_count": null,
   "id": "e5a387b9-f324-47c8-b4a3-b81f7233e491",
   "metadata": {},
   "outputs": [],
   "source": [
    "#Designer door mat\n",
    "N,M = map(int,input().split())\n",
    "for i in range(1,N,2): \n",
    "    print((i * \".|.\").center(M, \"-\"))\n",
    "print(\"WELCOME\".center(M,\"-\"))\n",
    "for i in range(N-2,-1,-2): \n",
    "    print((i * \".|.\").center(M, \"-\"))\n",
    "\n",
    "#From the discussions"
   ]
  },
  {
   "cell_type": "code",
   "execution_count": null,
   "id": "64f23d23-0914-4f40-8c47-46555a804c8e",
   "metadata": {},
   "outputs": [],
   "source": [
    "#Exceptions\n",
    "n = int(input())\n",
    "for i in range (n):\n",
    "    a,b = input().split()\n",
    "    try:\n",
    "        print(int(a)//int(b))\n",
    "    except Exception as e:\n",
    "        print(\"Error Code:\",e)"
   ]
  },
  {
   "cell_type": "code",
   "execution_count": null,
   "id": "ac336fb6-cec0-42a7-873c-34faf4571917",
   "metadata": {},
   "outputs": [],
   "source": [
    "#Introdution to sets\n",
    "def average(array):\n",
    "   return sum(set(array))/len(set(array))"
   ]
  },
  {
   "cell_type": "code",
   "execution_count": null,
   "id": "766bf09d-acbc-471c-b424-c5d9e2712faf",
   "metadata": {},
   "outputs": [],
   "source": [
    "#Symmetric difference\n",
    "m = int(input())\n",
    "set_a = set(map(int, input().split()))\n",
    "n = int(input())\n",
    "set_b = set(map(int, input().split()))\n",
    "set_a_diff = set_a.difference(set_b)\n",
    "set_b_diff = set_b.difference(set_a)\n",
    "for i in sorted(set_a_diff.union(set_b_diff)):\n",
    "    print(i)"
   ]
  },
  {
   "cell_type": "code",
   "execution_count": null,
   "id": "be695691-c2f4-41cd-88cc-c69291644b05",
   "metadata": {},
   "outputs": [],
   "source": [
    "#Set.add()\n",
    "n = int(input())\n",
    "country_set = set()\n",
    "for i in range(n):\n",
    "    country_name = input()\n",
    "    country_set.add(country_name)\n",
    "print(len(country_set))"
   ]
  },
  {
   "cell_type": "code",
   "execution_count": null,
   "id": "65aa1177-7719-4203-a483-b849c75c64f1",
   "metadata": {},
   "outputs": [],
   "source": [
    "#Set .union() Operation\n",
    "n = input()\n",
    "eng = set(map(int,input().split()))\n",
    "b = input()\n",
    "fre = set(map(int,input().split()))\n",
    "print(len(eng.union(fre)))"
   ]
  },
  {
   "cell_type": "code",
   "execution_count": null,
   "id": "8fb3c11e-d6fb-4603-befd-860ebbb2fc31",
   "metadata": {},
   "outputs": [],
   "source": [
    "#Set .intersection() Operation\n",
    "e = int(input())\n",
    "eng = set(map(int,input().split()))\n",
    "f = int(input())\n",
    "fre = set(map(int,input().split()))\n",
    "print(len(eng & fre))"
   ]
  },
  {
   "cell_type": "code",
   "execution_count": null,
   "id": "cccc35ac-2e15-40ae-a257-c49492ab9fe0",
   "metadata": {},
   "outputs": [],
   "source": [
    "#Set .difference() Operation\n",
    "e = int(input())\n",
    "eng = set(map(int,input().split())) \n",
    "f = int(input())\n",
    "fre = set(map(int,input().split()))\n",
    "print(len(eng - fre))"
   ]
  },
  {
   "cell_type": "code",
   "execution_count": null,
   "id": "9d819bd4-bc1f-44b0-b861-c0ddd5149096",
   "metadata": {},
   "outputs": [],
   "source": [
    "#Set .symmetric_difference() Operation\n",
    "e = int(input())\n",
    "eng = set(map(int,input().split())) \n",
    "f = int(input())\n",
    "fre = set(map(int,input().split()))\n",
    "print(len(eng ^ fre))"
   ]
  },
  {
   "cell_type": "code",
   "execution_count": null,
   "id": "cfa9f771-0773-4b6a-98d7-9c9ffefde2f3",
   "metadata": {},
   "outputs": [],
   "source": [
    "#The capitain's room\n",
    "k = int(input())\n",
    "room_number_list = list(map(int,input().split()))\n",
    "room_number_set = set(room_number_list)\n",
    "room_number_list_sum = sum(room_number_list)\n",
    "room_number_set_sum = sum(room_number_set) * k\n",
    "diff = room_number_set_sum - room_number_list_sum\n",
    "for i in room_number_set:\n",
    "    if diff == ((k-1)*i):\n",
    "        print(i)\n",
    "        break"
   ]
  },
  {
   "cell_type": "code",
   "execution_count": null,
   "id": "7d17b9d5-e6ee-44ff-9132-6b87edb1da9c",
   "metadata": {},
   "outputs": [],
   "source": [
    "#Check subset\n",
    "for i in range(int(input())): \n",
    "    a = int(input()); A = set(input().split()) \n",
    "    b = int(input()); B = set(input().split())\n",
    "    print((A & B) == A)"
   ]
  },
  {
   "cell_type": "code",
   "execution_count": null,
   "id": "ffad5a1a-2f10-4db2-9ec6-177706a56a2f",
   "metadata": {},
   "outputs": [],
   "source": [
    "#Check Strict Superset\n",
    "A  = set(input().split())\n",
    "n = int(input())\n",
    "check = True\n",
    "for i in range(n):\n",
    "    s = set(input().split())\n",
    "    if (s&A != s) or (s == A):\n",
    "        check = False\n",
    "        break\n",
    "print(check)\n"
   ]
  },
  {
   "cell_type": "code",
   "execution_count": null,
   "id": "c247dcc0-9b49-492e-8aba-3249f8d65c49",
   "metadata": {},
   "outputs": [],
   "source": [
    "#Detect Floating Point Number\n",
    "from re import match, compile\n",
    "\n",
    "pattern = compile('^[-+]?\\d*\\.\\d+$')\n",
    "for _ in range(int(input())):\n",
    "    print(bool(pattern.match(input())))"
   ]
  },
  {
   "cell_type": "code",
   "execution_count": null,
   "id": "d7480fc1-adb0-4582-8089-0f257b26a77e",
   "metadata": {},
   "outputs": [],
   "source": [
    "#Re.split()\n",
    "regex_pattern = r'[.,]+'"
   ]
  },
  {
   "cell_type": "code",
   "execution_count": null,
   "id": "d826dffb-067a-480f-a695-334bdee60276",
   "metadata": {},
   "outputs": [],
   "source": [
    "#Group(), Groups() & Groupdict()\n",
    "import re\n",
    "s = input()\n",
    "res = re.search(r'([A-Za-z0-9])\\1',s)\n",
    "if res == None:\n",
    "    print(-1)\n",
    "else:\n",
    "    print(res.group(1))"
   ]
  },
  {
   "cell_type": "code",
   "execution_count": null,
   "id": "331eae7b-19f5-49c3-aa1f-1c80e32c6c42",
   "metadata": {},
   "outputs": [],
   "source": [
    "#Re.findall() & Re.finditer()\n",
    "import re\n",
    "s = input()\n",
    "result = re.findall(r'(?<=[QWRTYPSDFGHJKLZXCVBNMqwrtypsdfghjklzxcvbnm])([AEIOUaeiou]{2,})(?=[QWRTYPSDFGHJKLZXCVBNMqwrtypsdfghjklzxcvbnm])',s)\n",
    "if result:\n",
    "    for i in result:\n",
    "        print(i)\n",
    "else:\n",
    "    print(-1)"
   ]
  },
  {
   "cell_type": "code",
   "execution_count": null,
   "id": "ebee4d07-711d-468c-8aca-1fc02ccfecd9",
   "metadata": {},
   "outputs": [],
   "source": [
    "#Re.start() & Re.end()\n",
    "import re\n",
    "s = input().strip()\n",
    "k = input().strip()\n",
    "s_len = len(s)\n",
    "found_flag = False\n",
    "for i in range(s_len):\n",
    "    match_result = re.match(k,s[i:])\n",
    "    if match_result:\n",
    "        start_index = i+match_result.start()\n",
    "        end_index = i+match_result.end()-1\n",
    "        print((start_index,end_index))\n",
    "        found_flag = True\n",
    "if found_flag == False:\n",
    "    print('(-1, -1)')"
   ]
  },
  {
   "cell_type": "code",
   "execution_count": null,
   "id": "4a1551d1-687b-49ba-97aa-25a95daff03e",
   "metadata": {},
   "outputs": [],
   "source": [
    "#Regex Substitution\n",
    "import re, sys\n",
    "n = int(input())\n",
    "for line in sys.stdin:\n",
    "    remove_and = re.sub(r'(?<= )(&&)(?= )',\"and\",line)\n",
    "    remove_or = re.sub(r'(?<= )(\\|\\|)(?= )',\"or\",remove_and)\n",
    "    print(remove_or,end='')"
   ]
  },
  {
   "cell_type": "code",
   "execution_count": null,
   "id": "18b70a1d-3450-473e-8eb5-fa8d98239905",
   "metadata": {},
   "outputs": [],
   "source": [
    "#Validating Roman Numerals\n",
    "regex_pattern = r\"^M{0,3}(CM|CD|D?C{0,3})(XC|XL|L?X{0,3})(IX|IV|V?I{0,3})$\"\t\n"
   ]
  },
  {
   "cell_type": "code",
   "execution_count": null,
   "id": "7ed7b2c0-bdde-4543-802d-33afc8620815",
   "metadata": {},
   "outputs": [],
   "source": [
    "#Validating phone numbers\n",
    "import re\n",
    "[print('YES' if re.match(r'[789]\\d{9}$',input()) else 'NO') for _ in range(int(input()))]\n",
    "#From discussions\n"
   ]
  },
  {
   "cell_type": "code",
   "execution_count": null,
   "id": "97194687-fadb-4bb7-8454-d06229fedcac",
   "metadata": {},
   "outputs": [],
   "source": [
    "#Validating and Parsing Email Addresses\n",
    "import re, email.utils\n",
    "n = int(input())\n",
    "for t in range(n):\n",
    "    s = input()\n",
    "    parsed_email = email.utils.parseaddr(s)[1].strip()\n",
    "    match_result = bool(re.match(r'(^[A-Za-z][A-Za-z0-9\\._-]+)@([A-Za-z]+)\\.([A-Za-z]{1,3})$',parsed_email))\n",
    "    if match_result == True:\n",
    "        print(s)\n"
   ]
  },
  {
   "cell_type": "code",
   "execution_count": null,
   "id": "1210d374-cb61-40af-8b6a-786bd74a27fd",
   "metadata": {},
   "outputs": [],
   "source": [
    "#Hex color code\n",
    "import re\n",
    "n = int(input())\n",
    "for t in range(n):\n",
    "    s = input()\n",
    "    match_result = re.findall(r'(#[0-9A-Fa-f]{3}|#[0-9A-Fa-f]{6})(?:[;,.)]{1})',s)\n",
    "    for i in match_result:\n",
    "        if i != '':\n",
    "            print(i)"
   ]
  },
  {
   "cell_type": "code",
   "execution_count": null,
   "id": "ccdd5549-1703-40a0-97da-69e74b8ee7fa",
   "metadata": {},
   "outputs": [],
   "source": [
    "#HTML Parser - Part 1\n",
    "from html.parser import HTMLParser\n",
    "\n",
    "class CustomHTMLParser(HTMLParser):\n",
    "    \n",
    "    def handle_attr(self,attrs):\n",
    "        for attr_val_tuple in attrs:\n",
    "            print('->',attr_val_tuple[0],'>',attr_val_tuple[1])\n",
    "\n",
    "    def handle_starttag(self,tag,attrs):\n",
    "        print(\"Start :\",tag)\n",
    "        self.handle_attr(attrs)\n",
    "\n",
    "    def handle_endtag(self,tag):\n",
    "        print(\"End   :\",tag)\n",
    "\n",
    "    def handle_startendtag(self,tag, attrs):\n",
    "        print(\"Empty :\",tag)\n",
    "        self.handle_attr(attrs)\n",
    "\n",
    "parser = CustomHTMLParser()\n",
    "\n",
    "n = int(input())\n",
    "\n",
    "s = ''\n",
    "for i in range(n):\n",
    "    s += input()\n",
    "    \n",
    "parser.feed(s)\n"
   ]
  },
  {
   "cell_type": "code",
   "execution_count": null,
   "id": "a9ef5cdb-f991-44aa-8ae3-8aba5f08e028",
   "metadata": {},
   "outputs": [],
   "source": [
    "#HTML Parser - Part 2\n",
    "from html.parser import HTMLParser\n",
    "class CustomHTMLParser(HTMLParser):\n",
    "    def handle_comment(self, data):\n",
    "        number_of_line = len(data.split('\\n'))\n",
    "        if number_of_line>1:\n",
    "            print('>>> Multi-line Comment')\n",
    "        else:\n",
    "            print('>>> Single-line Comment')\n",
    "        if data.strip():\n",
    "            print(data)\n",
    "\n",
    "    def handle_data(self, data):\n",
    "        if data.strip():\n",
    "            print(\">>> Data\")\n",
    "            print(data)\n",
    "\n",
    "parser = CustomHTMLParser()\n",
    "\n",
    "n = int(input())\n",
    "\n",
    "html_string = ''\n",
    "for i in range(n):\n",
    "    html_string += input().rstrip()+'\\n'\n",
    "    \n",
    "parser.feed(html_string)\n",
    "parser.close()\n"
   ]
  },
  {
   "cell_type": "code",
   "execution_count": null,
   "id": "1352bb66-c225-4f2b-88a3-040ecb6b7975",
   "metadata": {},
   "outputs": [],
   "source": [
    "#Detect HTML Tags, Attributes and Attribute Values\n",
    "from html.parser import HTMLParser\n",
    "\n",
    "class CustomHTMLParser(HTMLParser):\n",
    "    def handle_starttag(self,tag,attrs):\n",
    "        print(tag)\n",
    "        self.handle_attrs(attrs)\n",
    "    def handle_startendtag(self,tag,attrs):\n",
    "        print(tag)\n",
    "        self.handle_attrs(attrs)\n",
    "    def handle_attrs(self,attrs):\n",
    "        for attrs_pair in attrs:\n",
    "            print('->',attrs_pair[0].strip(),'>',attrs_pair[1].strip())        \n",
    "\n",
    "n = int(input())\n",
    "html_string = ''\n",
    "for i in range(n):\n",
    "    html_string += input()\n",
    "    \n",
    "customHTMLParser = CustomHTMLParser()\n",
    "customHTMLParser.feed(html_string)\n",
    "customHTMLParser.close()\n"
   ]
  },
  {
   "cell_type": "code",
   "execution_count": null,
   "id": "1060cb83-7249-4237-8b43-7f52fd2933be",
   "metadata": {},
   "outputs": [],
   "source": [
    "#Validating UID\n",
    "import re\n",
    "n = int(input())\n",
    "upper_check = r'.*([A-Z].*){2,}'\n",
    "digit_check = r'.*([0-9].*){3,}'\n",
    "alphanumeric_and_length_check = r'([A-Za-z0-9]){10}$'\n",
    "repeat_check = r'.*(.).*\\1'\n",
    "for i in range(n):\n",
    "    uid_string = input().strip()\n",
    "    upper_check_result = bool(re.match(upper_check,uid_string))\n",
    "    digit_check_result = bool(re.match(digit_check,uid_string))\n",
    "    alphanumeric_and_length_check_result = bool(re.match(alphanumeric_and_length_check,uid_string))\n",
    "    repeat_check_result = bool(re.match(repeat_check,uid_string))    \n",
    "    if upper_check_result and digit_check_result and alphanumeric_and_length_check_result and not repeat_check_result:\n",
    "        print('Valid')\n",
    "    else:\n",
    "        print('Invalid')\n",
    "\n"
   ]
  },
  {
   "cell_type": "code",
   "execution_count": null,
   "id": "8cb953bf-c9d1-4f65-a2a8-7a3ba740768e",
   "metadata": {},
   "outputs": [],
   "source": [
    "#Validating Credit Card Numbers\n",
    "import re\n",
    "\n",
    "\n",
    "for _ in range(int(input())):\n",
    "    s = input()\n",
    "\n",
    "    if re.match(r\"^[456]([\\d]{15}|[\\d]{3}(-[\\d]{4}){3})$\", s) and not re.search(r\"([\\d])\\1\\1\\1\", s.replace(\"-\", \"\")):\n",
    "        print(\"Valid\")\n",
    "    else:\n",
    "        print(\"Invalid\")\n",
    "        \n",
    "#From discussions\n"
   ]
  },
  {
   "cell_type": "code",
   "execution_count": null,
   "id": "c480977d-3dca-4391-9a18-0b2168c288ee",
   "metadata": {},
   "outputs": [],
   "source": [
    "#Validating Postal Codes\n",
    "regex_integer_in_range = r\"^[1-9][0-9]{5}$\"\t\n",
    "regex_alternating_repetitive_digit_pair = r\"(\\d)(?=.\\1)\"\n"
   ]
  },
  {
   "cell_type": "code",
   "execution_count": null,
   "id": "b5e467cc-ee85-4197-89b3-283719db7fde",
   "metadata": {},
   "outputs": [],
   "source": [
    "#Set Mutations\n",
    "input()\n",
    "L = set(input().split())\n",
    "for _ in range(int(input())):\n",
    "    command, *args = input().split()\n",
    "    getattr(L, command)(set(input().split())) \n",
    "print(sum(map(int, L)))\n",
    "#From discussions"
   ]
  },
  {
   "cell_type": "code",
   "execution_count": null,
   "id": "2f8993ca-01fa-4e09-8eeb-2d940e10bff8",
   "metadata": {},
   "outputs": [],
   "source": [
    "#No idea!\n",
    "from collections import Counter\n",
    "n, m = map(int,input().split())\n",
    "ar = list(map(int,input().split()))\n",
    "ar_set = set(ar)\n",
    "ar_counter = Counter(ar)\n",
    "set_a = set(map(int,input().split()))\n",
    "set_b = set(map(int,input().split()))\n",
    "intersect_ar_a = list(ar_set&set_a)\n",
    "intersect_ar_b = list(ar_set&set_b)\n",
    "result = 0\n",
    "for element in intersect_ar_a:\n",
    "    result += ar_counter[element]\n",
    "for element in intersect_ar_b:\n",
    "    result -= ar_counter[element]\n",
    "    \n",
    "print(result)\n"
   ]
  },
  {
   "cell_type": "code",
   "execution_count": null,
   "id": "6c52bb82-3a17-435c-90a4-535d42ee632e",
   "metadata": {},
   "outputs": [],
   "source": [
    "#Alphabet Rangoli\n",
    "def print_rangoli(size):\n",
    "    alp = 'abcdefghijklmnopqrstuvwxyz'\n",
    "    for i in range(size-1,-size,-1):\n",
    "        temp = '-'.join(alp[size-1:abs(i):-1]+alp[abs(i):size])\n",
    "        print(temp.center(4*size-3,'-'))\n"
   ]
  },
  {
   "cell_type": "code",
   "execution_count": null,
   "id": "ee113874-1f67-4c99-9acb-3d1adc08230d",
   "metadata": {},
   "outputs": [],
   "source": [
    "#The minion game\n",
    "def minion_game(string):\n",
    "    vowel =['A','E','I','O','U']\n",
    "    S=0\n",
    "    K=0\n",
    "    for i in range(len(string)):\n",
    "        if string[i] in vowel:\n",
    "            K+= len(string)-i\n",
    "        else:\n",
    "            S+=len(string)-i\n",
    "    if S>K:\n",
    "        print(\"Stuart\"+\" \"+ \"%d\" % S)\n",
    "    elif K>S:\n",
    "        print(\"Kevin\"+\" \"+'%d' % K)\n",
    "    else:\n",
    "        print(\"Draw\")\n",
    "#from discussions\n"
   ]
  },
  {
   "cell_type": "code",
   "execution_count": null,
   "id": "81945762-47a4-4b3c-80d4-c677c9a12a0d",
   "metadata": {},
   "outputs": [],
   "source": [
    "#collections.Counter()\n",
    "x = int(input())\n",
    "shoe_size = list(map(int,input().split()))\n",
    "n = int(input())\n",
    "sell = 0\n",
    "for i in range(n):\n",
    "    s, p = map(int,input().split())\n",
    "    if s in shoe_size:\n",
    "        sell = sell + p\n",
    "        shoe_size.remove(s)\n",
    "print(sell)"
   ]
  },
  {
   "cell_type": "code",
   "execution_count": null,
   "id": "7ce532a5-f845-4061-b080-5bcd4eb60fa9",
   "metadata": {},
   "outputs": [],
   "source": [
    "#DefaultDict Tutorial\n",
    "from collections import defaultdict\n",
    "d = defaultdict(list)\n",
    "n,m=map(int,input().split())\n",
    "for i in range(n):\n",
    "    w = input()\n",
    "    d[w].append(str(i+1))\n",
    "for j in range(m):\n",
    "    w = input()\n",
    "    print(' '.join(d[w]) or -1)\n"
   ]
  },
  {
   "cell_type": "code",
   "execution_count": null,
   "id": "72eb4540-70aa-41b7-ac1c-e50d36760513",
   "metadata": {},
   "outputs": [],
   "source": [
    "#Collections.namedtuple()\n",
    "n = int(input())\n",
    "col_list = list(input().split())\n",
    "marks_col = col_list.index(\"MARKS\")\n",
    "marks_list = []\n",
    "for i in range(n):\n",
    "    info_list = list(input().split())\n",
    "    marks_list.append(float(info_list[marks_col]))\n",
    "print(sum(marks_list)/n)"
   ]
  },
  {
   "cell_type": "code",
   "execution_count": null,
   "id": "91f1de68-e710-4df9-a55a-09255f747cca",
   "metadata": {},
   "outputs": [],
   "source": [
    "#Collections.OrderedDict()\n",
    "import collections, re\n",
    "n = int(input())\n",
    "item_od = collections.OrderedDict()\n",
    "for i in range(n):\n",
    "    record_list = re.split(r'(\\d+)$',input().strip())\n",
    "    item_name = record_list[0]\n",
    "    item_price = int(record_list[1])\n",
    "    if item_name not in item_od:\n",
    "        item_od[item_name]=item_price\n",
    "    else:\n",
    "        item_od[item_name]=item_od[item_name]+item_price\n",
    "            \n",
    "for i in item_od:\n",
    "    print(i+str(item_od[i]))"
   ]
  },
  {
   "cell_type": "code",
   "execution_count": null,
   "id": "d39bf7fa-12d6-4b55-83ef-112c5dd104ea",
   "metadata": {},
   "outputs": [],
   "source": [
    "#Word Order\n",
    "from collections import Counter, OrderedDict\n",
    "class OrderedCounter(Counter,OrderedDict):\n",
    "    pass\n",
    "\n",
    "word_ar = []\n",
    "n = int(input())\n",
    "for i in range(n):\n",
    "    word_ar.append(input().strip())\n",
    "word_counter = OrderedCounter(word_ar)\n",
    "print(len(word_counter))\n",
    "for word in word_counter:\n",
    "    print(word_counter[word],end=' ')"
   ]
  },
  {
   "cell_type": "code",
   "execution_count": null,
   "id": "0032c4b0-277a-415d-843c-9975a500e297",
   "metadata": {},
   "outputs": [],
   "source": [
    "#Collections.deque()\n",
    "import collections\n",
    "n = int(input())\n",
    "d = collections.deque()\n",
    "for i in range(n):\n",
    "    cmd = list(input().strip().split())\n",
    "    opt = cmd[0]\n",
    "    if opt == 'pop':\n",
    "        d.pop()\n",
    "    elif opt == 'popleft':\n",
    "        d.popleft()\n",
    "    elif opt == 'append':\n",
    "        d.append(int(cmd[1]))\n",
    "    elif opt == 'appendleft':\n",
    "        d.appendleft(int(cmd[1]))\n",
    "for i in d:\n",
    "    print(i,end=' ')\n"
   ]
  },
  {
   "cell_type": "code",
   "execution_count": null,
   "id": "9f9bd9db-e731-4c2a-9079-60aa3b668b11",
   "metadata": {},
   "outputs": [],
   "source": [
    "#Piling up!\n",
    "from collections import deque\n",
    "cas = int(input())\n",
    "for t in range(cas):\n",
    "    n = int(input())\n",
    "    dq = deque(map(int,input().split()))\n",
    "    possible = True\n",
    "    element = (2**31)+1\n",
    "    while dq:\n",
    "        left_element = dq[0]\n",
    "        right_element = dq[-1]\n",
    "        if left_element>=right_element and element>=left_element:\n",
    "            element = dq.popleft()\n",
    "        elif right_element>=left_element and element>=right_element:\n",
    "            element = dq.pop()\n",
    "        else:\n",
    "            possible = False\n",
    "            break\n",
    "    if possible:\n",
    "        print('Yes')\n",
    "    else:\n",
    "        print('No')   "
   ]
  },
  {
   "cell_type": "code",
   "execution_count": null,
   "id": "99d42d8d-42f7-4969-bda5-399e6ec095bc",
   "metadata": {},
   "outputs": [],
   "source": [
    "#Company logo\n",
    "from collections import Counter, OrderedDict\n",
    "\n",
    "class OrderedCounter(Counter, OrderedDict):\n",
    "    pass\n",
    "[print(*c) for c in OrderedCounter(sorted(input())).most_common(3)]\n",
    "#from discussions"
   ]
  },
  {
   "cell_type": "code",
   "execution_count": null,
   "id": "f2ba7cf7-09a6-4ba0-a102-ac4b636d32c1",
   "metadata": {},
   "outputs": [],
   "source": [
    "#Calendar Module\n",
    "import datetime\n",
    "import calendar\n",
    "m,d,y=map(int,input().split())\n",
    "input_date = datetime.date(y,m,d)\n",
    "print(calendar.day_name[input_date.weekday()].upper())"
   ]
  },
  {
   "cell_type": "code",
   "execution_count": null,
   "id": "69667b5e-3dca-4bba-b8bb-35b74009a2c4",
   "metadata": {},
   "outputs": [],
   "source": [
    "#Time delta\n",
    "import datetime\n",
    "cas = int(input())\n",
    "for t in range(cas):\n",
    "    timestamp1 = input().strip()\n",
    "    timestamp2 = input().strip()\n",
    "    time_format = \"%a %d %b %Y %H:%M:%S %z\"\n",
    "    time_second1 = datetime.datetime.strptime(timestamp1,time_format)\n",
    "    time_second2 = datetime.datetime.strptime(timestamp2,time_format)\n",
    "    print(int(abs((time_second1-time_second2).total_seconds())))\n"
   ]
  },
  {
   "cell_type": "code",
   "execution_count": null,
   "id": "6a510786-08b2-4bf4-b5bc-181d5d32a6e5",
   "metadata": {},
   "outputs": [],
   "source": [
    "#Zipped!\n",
    "n, x = map(int,input().split())\n",
    "ar = [0 for i in range(n)]\n",
    "for i in range(x):\n",
    "    temp_ar=list(map(float,input().split()))\n",
    "    for j in range(n):\n",
    "        ar[j] += temp_ar[j]\n",
    "for i in range(n):\n",
    "    print(ar[i]/x)"
   ]
  },
  {
   "cell_type": "code",
   "execution_count": null,
   "id": "1190df18-6478-4da8-b2b2-39ada17f6bd3",
   "metadata": {},
   "outputs": [],
   "source": [
    "#Athlete Sort\n",
    "N, M = map(int, input().split())\n",
    "rows = [input() for _ in range(N)]\n",
    "K = int(input())\n",
    "\n",
    "for row in sorted(rows, key=lambda row: int(row.split()[K])):\n",
    "    print(row)\n",
    "\n"
   ]
  },
  {
   "cell_type": "code",
   "execution_count": null,
   "id": "4a3c0b6e-fc86-46f7-b071-3a6067a44430",
   "metadata": {},
   "outputs": [],
   "source": [
    "#ginortS\n",
    "def getKey(x):\n",
    "    if x.islower():\n",
    "        return(1,x)\n",
    "    elif x.isupper():\n",
    "        return(2,x)\n",
    "    elif x.isdigit() :\n",
    "        if int(x)%2==1:\n",
    "            return(3,x)\n",
    "        else :\n",
    "            return(4,x)\n",
    "\n",
    "print(*sorted(input(),key=getKey),sep='')\n",
    "#from discussions\n"
   ]
  },
  {
   "cell_type": "code",
   "execution_count": null,
   "id": "48a9972c-b0db-46ce-918a-1252e90e3e88",
   "metadata": {},
   "outputs": [],
   "source": [
    "#XML 1 - Find the Score\n",
    "def get_attr_number(node):\n",
    "    return etree.tostring(node).count(b'=')\n",
    "#from discussions"
   ]
  },
  {
   "cell_type": "code",
   "execution_count": null,
   "id": "bcf8b169-14d9-4564-97ef-6762ad6d241c",
   "metadata": {},
   "outputs": [],
   "source": [
    "#XML 2 - Find the Score\n",
    "\n",
    "maxdepth = 0\n",
    "def depth(elem, level):\n",
    "    global maxdepth\n",
    "    maxdepth = -1\n",
    "def depth(elem, level):\n",
    "    global maxdepth\n",
    "    if (level == maxdepth):\n",
    "        maxdepth += 1\n",
    "        \n",
    "    for child in elem:\n",
    "        depth(child, level + 1)\n",
    "#from discussions"
   ]
  },
  {
   "cell_type": "code",
   "execution_count": null,
   "id": "f6ce2081-b7ba-4fb3-9b95-9acaeadafae7",
   "metadata": {},
   "outputs": [],
   "source": [
    "#Map and Lambda Function\n",
    "cube = lambda x: pow(x,3)\n",
    "\n",
    "def fibonacci(n):\n",
    "    lis = [0,1]\n",
    "    for i in range(2,n):\n",
    "        lis.append(lis[i-2] + lis[i-1])\n",
    "    return(lis[0:n])"
   ]
  },
  {
   "cell_type": "code",
   "execution_count": null,
   "id": "71d830b3-f729-48b5-b164-2c823a066d6f",
   "metadata": {},
   "outputs": [],
   "source": [
    "#Standardize Mobile Number Using Decorators\n",
    "def wrapper(f):\n",
    "    def fun(l):\n",
    "        f([\"+91 \"+c[-10:-5]+\" \"+c[-5:] for c in l])\n",
    "    return fun"
   ]
  },
  {
   "cell_type": "code",
   "execution_count": null,
   "id": "9d02edc2-c876-4620-a5f5-246c31080938",
   "metadata": {},
   "outputs": [],
   "source": [
    "#Decorators 2 - Name Directory\n",
    "\n",
    "\n",
    "def person_lister(func):\n",
    "    def inner(people):\n",
    "        return [func(p) for p in sorted(people, key = lambda x: (int(x[2])))]\n",
    "    return inner"
   ]
  },
  {
   "cell_type": "code",
   "execution_count": null,
   "id": "d1a880c7-3e42-4621-8a73-dc83e43b8bb8",
   "metadata": {},
   "outputs": [],
   "source": [
    "#Number Line Jumps\n",
    "import math\n",
    "import os\n",
    "import random\n",
    "import re\n",
    "import sys\n",
    "\n",
    "\n",
    "def kangaroo(x1, v1, x2, v2):\n",
    "    if x1<x2 and v1<v2:\n",
    "        return \"NO\"\n",
    "    else:\n",
    "        if v1!=v2 and (x2-x1)%(v1-v2)==0:\n",
    "            return \"YES\"\n",
    "        else:\n",
    "            return \"NO\"\n",
    "        \n",
    "\n",
    "if __name__ == '__main__':\n",
    "    fptr = open(os.environ['OUTPUT_PATH'], 'w')\n",
    "\n",
    "    first_multiple_input = input().rstrip().split()\n",
    "\n",
    "    x1 = int(first_multiple_input[0])\n",
    "\n",
    "    v1 = int(first_multiple_input[1])\n",
    "\n",
    "    x2 = int(first_multiple_input[2])\n",
    "\n",
    "    v2 = int(first_multiple_input[3])\n",
    "\n",
    "    result = kangaroo(x1, v1, x2, v2)\n",
    "\n",
    "    fptr.write(result + '\\n')\n",
    "\n",
    "    fptr.close()\n"
   ]
  },
  {
   "cell_type": "code",
   "execution_count": null,
   "id": "548ce449-ab0c-465b-aec0-9c6556eb89a3",
   "metadata": {},
   "outputs": [],
   "source": [
    "#Viral Advertising\n",
    "import math\n",
    "import os\n",
    "import random\n",
    "import re\n",
    "import sys\n",
    "\n",
    "\n",
    "def viralAdvertising(n):\n",
    "    total_likes = 0\n",
    "    shared = 5\n",
    "    \n",
    "    for i in range (n):\n",
    "        like = shared//2\n",
    "        total_likes+=like\n",
    "        shared = like * 3\n",
    "        \n",
    "    return total_likes\n",
    "\n",
    "if __name__ == '__main__':\n",
    "    fptr = open(os.environ['OUTPUT_PATH'], 'w')\n",
    "\n",
    "    n = int(input().strip())\n",
    "\n",
    "    result = viralAdvertising(n)\n",
    "\n",
    "    fptr.write(str(result) + '\\n')\n",
    "\n",
    "    fptr.close()\n"
   ]
  },
  {
   "cell_type": "code",
   "execution_count": null,
   "id": "82b80fa8-e98a-49f2-b19b-de346d7728dc",
   "metadata": {},
   "outputs": [],
   "source": [
    "#Recursive Digit Sum\n",
    "import math\n",
    "import os\n",
    "import random\n",
    "import re\n",
    "import sys\n",
    "\n",
    "\n",
    "def superDigit(n, k):\n",
    "    digits = map(int, list(n))\n",
    "    return get_super_digit(str(sum(digits) * k))\n",
    "\n",
    "def get_super_digit(p):\n",
    "    if len(p) == 1:\n",
    "        return int(p)\n",
    "    else:\n",
    "        digits = map(int, list(p))\n",
    "        return get_super_digit(str(sum(digits)))\n",
    "\n",
    "if __name__ == '__main__':\n",
    "    fptr = open(os.environ['OUTPUT_PATH'], 'w')\n",
    "\n",
    "    first_multiple_input = input().rstrip().split()\n",
    "\n",
    "    n = first_multiple_input[0]\n",
    "\n",
    "    k = int(first_multiple_input[1])\n",
    "\n",
    "    result = superDigit(n, k)\n",
    "\n",
    "    fptr.write(str(result) + '\\n')\n",
    "\n",
    "    fptr.close()\n"
   ]
  },
  {
   "cell_type": "code",
   "execution_count": null,
   "id": "195b4c2c-9bb2-4ca3-87df-0eb334be4d74",
   "metadata": {},
   "outputs": [],
   "source": [
    "#Insertion Sort - Part 1\n",
    "import math\n",
    "import os\n",
    "import random\n",
    "import re\n",
    "import sys\n",
    "\n",
    "\n",
    "\n",
    "\n",
    "def insertionSort1(n, arr):\n",
    "    key = arr[-1]\n",
    "    i=n-1\n",
    "    while i>0 and arr[i-1] > key:\n",
    "        arr[i] = arr[i-1]\n",
    "        print(*arr)\n",
    "        i -= 1\n",
    "    arr[i] = key \n",
    "    print(*arr)\n",
    "\n",
    "\n",
    "if __name__ == '__main__':\n",
    "    n = int(input().strip())\n",
    "\n",
    "    arr = list(map(int, input().rstrip().split()))\n",
    "\n",
    "    insertionSort1(n, arr)\n"
   ]
  },
  {
   "cell_type": "code",
   "execution_count": null,
   "id": "50b8dace-7471-4d9c-8dcf-07c947a38706",
   "metadata": {},
   "outputs": [],
   "source": [
    "#"
   ]
  }
 ],
 "metadata": {
  "kernelspec": {
   "display_name": "Python 3 (ipykernel)",
   "language": "python",
   "name": "python3"
  },
  "language_info": {
   "codemirror_mode": {
    "name": "ipython",
    "version": 3
   },
   "file_extension": ".py",
   "mimetype": "text/x-python",
   "name": "python",
   "nbconvert_exporter": "python",
   "pygments_lexer": "ipython3",
   "version": "3.9.6"
  }
 },
 "nbformat": 4,
 "nbformat_minor": 5
}
